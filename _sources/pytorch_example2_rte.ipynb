{
 "cells": [
  {
   "cell_type": "markdown",
   "metadata": {},
   "source": [
    "# 使用PyTorch求解RTE(和Matlab代码对比)\n",
    "\n",
    "\n",
    "下面是一段求解RTE方程的Matlab代码，我们将以此为例，逐步将其用Pytorch进行实现。\n",
    "\n",
    "\n",
    "```matlab\n",
    "% it solves the multiscale heat transfer based on the phonon Boltzmann transport equation\n",
    "% by using the synthetic iteration scheme\n",
    "% the BTE are given by Phys. Rev. E 96 (2017) 063311, but the macroscopic\n",
    "% acceleration equation is different. In fact, our macroscopic equation is\n",
    "% derived exactly from the BTE\n",
    "\n",
    "% Initial condition\n",
    "a = 1;\n",
    "c = 1;\n",
    "rho = 1;\n",
    "cv = 1;\n",
    "\n",
    "fileIDI0 = fopen('I0.txt', 'w');\n",
    "fileIDT = fopen('T.txt','w');\n",
    "% ini = sin(2 * pi * x)\n",
    "\n",
    "% spatial grid\n",
    "N=400;\n",
    "L = 1;\n",
    "dx = L / N;\n",
    "x = 0.5 * dx : dx : L - 0.5 * dx;\n",
    "Tini = 0.1 * sin(2 * pi * x) + 1;\n",
    "sigma = 1; \n",
    "CFL = 0.8;\n",
    "dt=CFL*dx; % time step\n",
    "dtc = dt * c;\n",
    "ddtc = 1/ dtc;\n",
    "\n",
    "% velocity grid & angle\n",
    "Nvx=8;\n",
    "[mu, wmu] = Get_Gauss_Point(Nvx);\n",
    "\n",
    "% distribution function\n",
    "\n",
    "T = Tini;\n",
    "I = zeros(Nvx, N + 2);\n",
    "I(:, 2:end-1) = repmat(0.5 * a * c * Tini.^4, Nvx, 1);\n",
    "I(:,1)=I(:, end-1); I(:,end)=I(:,2); % boundary condition\n",
    "\n",
    "I0 =  wmu' * I; % energe\n",
    "\n",
    "%% main iteration\n",
    "\n",
    "for loop=1: 1/dt\n",
    "    I_out = I;\n",
    "    T_out = T;\n",
    "    I0_out = I0;\n",
    "\n",
    "    %% streaming, positive vx\n",
    "    lv=Nvx/2+1:Nvx;coe = mu(lv); index = 2:N + 1;\n",
    "    I(lv, index) = I_out(lv, index) ...\n",
    "        - dt / dx * coe .* (I_out(lv, index) - I_out(lv, index -1))...\n",
    "        +  dt * sigma * (0.5*a*c * repmat(T_out.^4, Nvx/2, 1) - I_out(lv, index));\n",
    "\n",
    "    %% streaming, negative vx\n",
    "    lv=1:Nvx/2; coe= mu(lv);\n",
    "    I(lv,index)= I_out(lv, index) ...\n",
    "        -dt / dx * coe .* (I_out(lv, index+1) - I_out(lv, index))...\n",
    "        +  dt * sigma * (0.5*a*c * repmat(T_out.^4, Nvx/2,1) - I_out(lv, index));\n",
    "\n",
    "    %% macroscopic quantities\n",
    "\n",
    "    I(:,end)= I(:, 2); I(:,1)= I(:, end-1);\n",
    "\n",
    "    T = T_out + dt / cv * sigma .* (I0_out(index) - a  * c * T_out.^4);\n",
    "    I0 =  wmu' * I;\n",
    "\n",
    "    loop\n",
    "    fprintf(fileIDI0, '%12.8f',I0(2:end-1));\n",
    "    fprintf(fileIDT, '%12.8f',T);\n",
    "    fprintf(fileIDT, '\\n');\n",
    "    fprintf(fileIDI0, '\\n');\n",
    "end\n",
    "fclose(fileIDI0);\n",
    "fclose(fileIDT);\n",
    "\n",
    "\n",
    "function [points, weight] = Get_Gauss_Point(n)\n",
    "syms x \n",
    "\n",
    "f = legendreP(n, x);\n",
    "points = sort(double(solve(f==0)));\n",
    "tmpf = diff(f, x); \n",
    "tmpf = subs(tmpf, 'x', points); \n",
    "weight = double(2 ./ (1 - points.^2) ./ (tmpf.^2));\n",
    "\n",
    "end\n",
    "```"
   ]
  },
  {
   "cell_type": "markdown",
   "metadata": {},
   "source": [
    "## 导入用到的包"
   ]
  },
  {
   "cell_type": "code",
   "execution_count": 8,
   "metadata": {
    "ExecuteTime": {
     "end_time": "2023-04-11T14:40:19.584297Z",
     "start_time": "2023-04-11T14:40:19.578855Z"
    }
   },
   "outputs": [],
   "source": [
    "import torch\n",
    "import numpy as np\n",
    "import torch.nn.functional as F\n",
    "import matplotlib.pyplot as plt"
   ]
  },
  {
   "cell_type": "markdown",
   "metadata": {
    "ExecuteTime": {
     "end_time": "2023-04-11T14:02:03.334559Z",
     "start_time": "2023-04-11T14:02:03.329940Z"
    }
   },
   "source": [
    "## 辅助函数 get_gauss_point\n",
    "\n",
    "在matlab中，我们使用\n",
    "\n",
    "```matlab\n",
    "function [points, weight] = Get_Gauss_Point(n)\n",
    "syms x \n",
    "\n",
    "f = legendreP(n, x);\n",
    "points = sort(double(solve(f==0)));\n",
    "tmpf = diff(f, x); \n",
    "tmpf = subs(tmpf, 'x', points); \n",
    "weight = double(2 ./ (1 - points.^2) ./ (tmpf.^2));\n",
    "\n",
    "end\n",
    "```\n",
    "\n",
    "获取积分节点和权重"
   ]
  },
  {
   "cell_type": "code",
   "execution_count": 23,
   "metadata": {
    "ExecuteTime": {
     "end_time": "2023-04-11T14:40:24.999619Z",
     "start_time": "2023-04-11T14:40:24.993052Z"
    }
   },
   "outputs": [],
   "source": [
    "def get_gauss_point(n):\n",
    "    x, w = np.polynomial.legendre.leggauss(n)\n",
    "    return torch.from_numpy(x).to(dtype=torch.get_default_dtype()), torch.from_numpy(w).to(dtype=torch.get_default_dtype())"
   ]
  },
  {
   "cell_type": "markdown",
   "metadata": {
    "ExecuteTime": {
     "end_time": "2023-04-11T14:40:55.928133Z",
     "start_time": "2023-04-11T14:40:55.923677Z"
    }
   },
   "source": [
    "## 定义问题参数\n",
    "```\n",
    "% Initial condition\n",
    "a = 1;\n",
    "c = 1;\n",
    "rho = 1;\n",
    "cv = 1;\n",
    "```"
   ]
  },
  {
   "cell_type": "code",
   "execution_count": 35,
   "metadata": {
    "ExecuteTime": {
     "end_time": "2023-04-11T14:41:26.620504Z",
     "start_time": "2023-04-11T14:41:26.615707Z"
    }
   },
   "outputs": [],
   "source": [
    "a = 1\n",
    "c = 1\n",
    "rho = 1\n",
    "cv = 1"
   ]
  },
  {
   "cell_type": "markdown",
   "metadata": {},
   "source": [
    "## 打开文件\n",
    "\n",
    "```matlab\n",
    "fileIDI0 = fopen('I0.txt', 'w');\n",
    "fileIDT = fopen('T.txt','w');\n",
    "```"
   ]
  },
  {
   "cell_type": "code",
   "execution_count": 36,
   "metadata": {},
   "outputs": [],
   "source": [
    "fileIDI0 = open('I0.txt', 'w')\n",
    "fileIDT = open('T.txt','w')"
   ]
  },
  {
   "cell_type": "markdown",
   "metadata": {},
   "source": [
    "## 定义空间网格，设定初值\n",
    "\n",
    "\n",
    "```matlab\n",
    "N=400;\n",
    "L = 1;\n",
    "dx = L / N;\n",
    "x = 0.5 * dx : dx : L - 0.5 * dx;\n",
    "Tini = 0.1 * sin(2 * pi * x) + 1;\n",
    "sigma = 1; \n",
    "CFL = 0.8;\n",
    "dt=CFL*dx; % time step\n",
    "dtc = dt * c;\n",
    "ddtc = 1/ dtc;\n",
    "```\n",
    "\n",
    "下面是对应的Python代码"
   ]
  },
  {
   "cell_type": "code",
   "execution_count": 37,
   "metadata": {
    "ExecuteTime": {
     "end_time": "2023-04-11T14:44:54.545970Z",
     "start_time": "2023-04-11T14:44:54.537482Z"
    }
   },
   "outputs": [],
   "source": [
    "# spatial grid\n",
    "N = 400\n",
    "L = 1\n",
    "dx = L / N\n",
    "x = torch.arange(0.5 * dx, L + 0.5 * dx, dx)\n",
    "\n",
    "Tini =  1 + 0.1 * torch.sin(2 * np.pi * x)\n",
    "sigma = 1 + 0.1 * torch.sin(2 * np.pi * x)\n",
    "\n",
    "CFL = 0.8\n",
    "dt = CFL * dx  # time step\n",
    "dtc = dt * c\n",
    "ddtc = 1 / dtc"
   ]
  },
  {
   "cell_type": "markdown",
   "metadata": {},
   "source": [
    "## 分布函数初值"
   ]
  },
  {
   "cell_type": "markdown",
   "metadata": {},
   "source": [
    "```matlab\n",
    "% velocity grid & angle\n",
    "Nvx=8;\n",
    "[mu, wmu] = Get_Gauss_Point(Nvx);\n",
    "\n",
    "% distribution function\n",
    "\n",
    "T = Tini;\n",
    "I = zeros(Nvx, N + 2);\n",
    "I(:, 2:end-1) = repmat(0.5 * a * c * Tini.^4, Nvx, 1);\n",
    "I(:,1)=I(:, end-1); I(:,end)=I(:,2); % boundary condition\n",
    "\n",
    "I0 =  wmu' * I; % energe\n",
    "```"
   ]
  },
  {
   "cell_type": "code",
   "execution_count": 38,
   "metadata": {},
   "outputs": [],
   "source": [
    "# velocity grid & angle\n",
    "Nvx = 8\n",
    "mu, wmu = get_gauss_point(Nvx)\n",
    "\n",
    "# distribution function\n",
    "T = Tini\n",
    "I = 0.5 * a * c * Tini**4\n",
    "I = I.repeat(Nvx, 1)\n",
    "I = F.pad(I[None, ...], (1, 1), mode='circular')[0]\n",
    "\n",
    "Flux=torch.zeros((Nvx,N+1))\n",
    "I0 = wmu @ I  # energe\n",
    "sigma = sigma.repeat(Nvx // 2, 1)"
   ]
  },
  {
   "cell_type": "markdown",
   "metadata": {},
   "source": [
    "## 主循环\n",
    "\n",
    "```\n",
    "for loop=1: 1/dt\n",
    "    I_out = I;\n",
    "    T_out = T;\n",
    "    I0_out = I0;\n",
    "\n",
    "    %% streaming, positive vx\n",
    "    lv=Nvx/2+1:Nvx;coe = mu(lv); index = 2:N + 1;\n",
    "    I(lv, index) = I_out(lv, index) ...\n",
    "        - dt / dx * coe .* (I_out(lv, index) - I_out(lv, index -1))...\n",
    "        +  dt * sigma * (0.5*a*c * repmat(T_out.^4, Nvx/2, 1) - I_out(lv, index));\n",
    "\n",
    "    %% streaming, negative vx\n",
    "    lv=1:Nvx/2; coe= mu(lv);\n",
    "    I(lv,index)= I_out(lv, index) ...\n",
    "        -dt / dx * coe .* (I_out(lv, index+1) - I_out(lv, index))...\n",
    "        +  dt * sigma * (0.5*a*c * repmat(T_out.^4, Nvx/2,1) - I_out(lv, index));\n",
    "\n",
    "    %% macroscopic quantities\n",
    "\n",
    "    I(:,end)= I(:, 2); I(:,1)= I(:, end-1);\n",
    "\n",
    "    T = T_out + dt / cv * sigma .* (I0_out(index) - a  * c * T_out.^4);\n",
    "    I0 =  wmu' * I;\n",
    "\n",
    "    loop\n",
    "    fprintf(fileIDI0, '%12.8f',I0(2:end-1));\n",
    "    fprintf(fileIDT, '%12.8f',T);\n",
    "    fprintf(fileIDT, '\\n');\n",
    "    fprintf(fileIDI0, '\\n');\n",
    " end\n",
    " ```"
   ]
  },
  {
   "cell_type": "code",
   "execution_count": 39,
   "metadata": {
    "ExecuteTime": {
     "end_time": "2023-04-11T14:44:55.289446Z",
     "start_time": "2023-04-11T14:44:55.075177Z"
    }
   },
   "outputs": [],
   "source": [
    "for loop in range(int(1 / dt)):  #=1: 1/dt\n",
    "    I_out = I.clone()\n",
    "    T_out = T.clone()\n",
    "    I0_out = I0.clone()\n",
    "\n",
    "    index = slice(1, -1)\n",
    "    index_add1 = slice(2, None)\n",
    "    index_sub1 = slice(None, -2)\n",
    "\n",
    "    # streaming, positive vx\n",
    "    lv = slice(Nvx // 2, None)\n",
    "    coe = mu[lv]\n",
    "    I[lv, index] = I_out[lv, index] - dt / dx * coe[..., None] * (\n",
    "        I_out[lv, index] - I_out[lv, index_sub1]) + dt * sigma * (\n",
    "            (0.5 * a * c * T_out**4).repeat(Nvx // 2, 1) - I_out[lv, index])\n",
    "\n",
    "    # streaming, negative vx\n",
    "    lv = slice(0, Nvx // 2)\n",
    "    coe = mu[lv]\n",
    "    I[lv, index] = I_out[lv, index] - dt / dx * coe[..., None] * (\n",
    "        I_out[lv, index_add1] - I_out[lv, index]) + dt * sigma * (\n",
    "            (0.5 * a * c * T_out**4).repeat(Nvx // 2, 1) - I_out[lv, index])\n",
    "\n",
    "    I = F.pad(I[None, ..., 1:-1], (1, 1), mode='circular')[0]\n",
    "    T = T_out + dt / cv * sigma[0, :] * (I0_out[index] - a * c * T_out**4)\n",
    "    I0 = wmu @ I\n",
    "    \n",
    "    fileIDI0.write(str(I0.numpy())+\"\\n\") \n",
    "    fileIDT.write(str(T.numpy())+\"\\n\")"
   ]
  },
  {
   "cell_type": "markdown",
   "metadata": {},
   "source": [
    "## 关闭文件\n",
    "\n",
    "```matlab\n",
    "fclose(fileIDI0);\n",
    "fclose(fileIDT);\n",
    "```"
   ]
  },
  {
   "cell_type": "code",
   "execution_count": 40,
   "metadata": {},
   "outputs": [],
   "source": [
    "fileIDI0.close()\n",
    "fileIDT.close()"
   ]
  },
  {
   "cell_type": "markdown",
   "metadata": {},
   "source": [
    "## 结果可视化"
   ]
  },
  {
   "cell_type": "code",
   "execution_count": 28,
   "metadata": {},
   "outputs": [
    {
     "data": {
      "text/plain": [
       "<matplotlib.legend.Legend at 0x7f639b558ee0>"
      ]
     },
     "execution_count": 28,
     "metadata": {},
     "output_type": "execute_result"
    },
    {
     "data": {
      "image/png": "[encoded data removed]",
      "text/plain": [
       "<Figure size 640x480 with 1 Axes>"
      ]
     },
     "metadata": {},
     "output_type": "display_data"
    }
   ],
   "source": [
    "plt.plot(I0,label=\"I0\")\n",
    "plt.plot(T,label=\"T\")\n",
    "plt.legend()"
   ]
  },
  {
   "cell_type": "markdown",
   "metadata": {},
   "source": [
    "## 为什么要用PyTorch实现？\n",
    "\n",
    "\n",
    "1. CUDA加速\n",
    "\n",
    "2. 函数变换\n",
    "\n",
    "3. 自动微分\n",
    "\n",
    "4. 融合神经网络\n",
    "\n",
    "5. ..."
   ]
  }
 ],
 "metadata": {
  "kernelspec": {
   "display_name": "pytorch20",
   "language": "python",
   "name": "pytorch20"
  },
  "language_info": {
   "codemirror_mode": {
    "name": "ipython",
    "version": 3
   },
   "file_extension": ".py",
   "mimetype": "text/x-python",
   "name": "python",
   "nbconvert_exporter": "python",
   "pygments_lexer": "ipython3",
   "version": "3.9.16"
  }
 },
 "nbformat": 4,
 "nbformat_minor": 2
}
