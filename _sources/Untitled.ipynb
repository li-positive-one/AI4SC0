{
 "cells": [
  {
   "cell_type": "code",
   "execution_count": 13,
   "id": "86e8a2d1",
   "metadata": {},
   "outputs": [],
   "source": [
    "import torch\n",
    "import torch.nn as nn\n",
    "import torch.optim as optim\n",
    "import numpy as np\n",
    "import matplotlib.pyplot as plt\n",
    "\n",
    "# 超参数\n",
    "n_x = 200 # 空间网格数\n",
    "n_t = 100 # 时间网格数\n",
    "t_max = 1.0 # 最大时间\n",
    "x_min, x_max = -10.0, 10.0 # 空间区间\n",
    "t_min, t_max = 0.0, 1.0 # 时间区间\n",
    "learning_rate = 0.001 # 学习率\n",
    "n_hidden = 20 # 隐藏层神经元数\n",
    "n_epoch = 10000 # 训练轮数"
   ]
  },
  {
   "cell_type": "code",
   "execution_count": 14,
   "id": "6fc56a83",
   "metadata": {},
   "outputs": [],
   "source": [
    "# 生成训练数据\n",
    "def generate_training_data():\n",
    "    x = np.linspace(x_min, x_max, n_x)[:, None] # 空间网格\n",
    "    t = np.linspace(t_min, t_max, n_t)[:, None] # 时间网格\n",
    "    X, T = np.meshgrid(x, t) # 构建网格\n",
    "    X_star = np.hstack((X.flatten()[:, None], T.flatten()[:, None]))\n",
    "    u_star = -(X_star[:, 1:2] - 0.5) * np.sin(np.pi * X_star[:, 0:1])\n",
    "    X_star = torch.from_numpy(X_star).float().requires_grad_(True)\n",
    "    #X_star = torch.from_numpy(np.vstack([X_star, u_star])).float().requires_grad_(True)\n",
    "\n",
    "    u_star = torch.from_numpy(u_star).float()\n",
    "    return X_star, u_star\n",
    "\n",
    "# 定义网络模型\n",
    "class PINN(nn.Module):\n",
    "    def __init__(self):\n",
    "        super().__init__()\n",
    "        self.fc1 = nn.Linear(2, n_hidden)\n",
    "        self.fc2 = nn.Linear(n_hidden, n_hidden)\n",
    "        self.fc3 = nn.Linear(n_hidden, n_hidden)\n",
    "        self.fc4 = nn.Linear(n_hidden, 1)\n",
    "        self.tanh = nn.Tanh()\n",
    "\n",
    "    def forward(self, x):\n",
    "        a = self.tanh(self.fc1(x))\n",
    "        a = self.tanh(self.fc2(a))\n",
    "        a = self.tanh(self.fc3(a))\n",
    "        u = self.fc4(a)\n",
    "        return u\n"
   ]
  },
  {
   "cell_type": "code",
   "execution_count": 15,
   "id": "976e8205",
   "metadata": {},
   "outputs": [],
   "source": [
    "# 训练函数\n",
    "def train_pinn():\n",
    "    # 生成训练数据\n",
    "    X_star, u_star = generate_training_data()\n",
    "\n",
    "    # 初始化 PINN 模型和优化器\n",
    "    model = PINN()\n",
    "    optimizer = optim.Adam(model.parameters(), lr=learning_rate)\n",
    "\n",
    "    # 训练循环\n",
    "    for epoch in range(n_epoch):\n",
    "        optimizer.zero_grad()\n",
    "        u_pred = model(X_star)\n",
    "        u_x, u_t = torch.autograd.grad(u_pred, X_star, grad_outputs=torch.ones_like(u_pred), create_graph=True)\n",
    "        u_xx = torch.autograd.grad(u_x, X_star, grad_outputs=torch.ones_like(u_x), create_graph=True)[0]\n",
    "        f = u_t + u_pred * u_x - 0.01 * u_xx\n",
    "        loss = torch.mean(torch.square(u_star - u_pred)) + torch.mean(torch.square(f))\n",
    "        loss.backward()\n",
    "        optimizer.step()\n",
    "\n",
    "        if epoch % 100 == 0:\n",
    "            print('Epoch: {}, Loss: {:.6f}'.format(epoch, loss.item()))\n",
    "\n",
    "    # 返回模型和训练数据\n",
    "    return model, X_star, u_star\n",
    "\n"
   ]
  },
  {
   "cell_type": "code",
   "execution_count": 16,
   "id": "cf8c1221",
   "metadata": {},
   "outputs": [
    {
     "ename": "ValueError",
     "evalue": "not enough values to unpack (expected 2, got 1)",
     "output_type": "error",
     "traceback": [
      "\u001b[0;31m---------------------------------------------------------------------------\u001b[0m",
      "\u001b[0;31mValueError\u001b[0m                                Traceback (most recent call last)",
      "Cell \u001b[0;32mIn[16], line 2\u001b[0m\n\u001b[1;32m      1\u001b[0m \u001b[38;5;66;03m# 调用训练函数\u001b[39;00m\n\u001b[0;32m----> 2\u001b[0m model, X_star, u_star \u001b[38;5;241m=\u001b[39m \u001b[43mtrain_pinn\u001b[49m\u001b[43m(\u001b[49m\u001b[43m)\u001b[49m\n\u001b[1;32m      4\u001b[0m \u001b[38;5;66;03m# 绘制结果\u001b[39;00m\n\u001b[1;32m      5\u001b[0m x \u001b[38;5;241m=\u001b[39m np\u001b[38;5;241m.\u001b[39mlinspace(x_min, x_max, n_x)\n",
      "Cell \u001b[0;32mIn[15], line 14\u001b[0m, in \u001b[0;36mtrain_pinn\u001b[0;34m()\u001b[0m\n\u001b[1;32m     12\u001b[0m optimizer\u001b[38;5;241m.\u001b[39mzero_grad()\n\u001b[1;32m     13\u001b[0m u_pred \u001b[38;5;241m=\u001b[39m model(X_star)\n\u001b[0;32m---> 14\u001b[0m u_x, u_t \u001b[38;5;241m=\u001b[39m torch\u001b[38;5;241m.\u001b[39mautograd\u001b[38;5;241m.\u001b[39mgrad(u_pred, X_star, grad_outputs\u001b[38;5;241m=\u001b[39mtorch\u001b[38;5;241m.\u001b[39mones_like(u_pred), create_graph\u001b[38;5;241m=\u001b[39m\u001b[38;5;28;01mTrue\u001b[39;00m)\n\u001b[1;32m     15\u001b[0m u_xx \u001b[38;5;241m=\u001b[39m torch\u001b[38;5;241m.\u001b[39mautograd\u001b[38;5;241m.\u001b[39mgrad(u_x, X_star, grad_outputs\u001b[38;5;241m=\u001b[39mtorch\u001b[38;5;241m.\u001b[39mones_like(u_x), create_graph\u001b[38;5;241m=\u001b[39m\u001b[38;5;28;01mTrue\u001b[39;00m)[\u001b[38;5;241m0\u001b[39m]\n\u001b[1;32m     16\u001b[0m f \u001b[38;5;241m=\u001b[39m u_t \u001b[38;5;241m+\u001b[39m u_pred \u001b[38;5;241m*\u001b[39m u_x \u001b[38;5;241m-\u001b[39m \u001b[38;5;241m0.01\u001b[39m \u001b[38;5;241m*\u001b[39m u_xx\n",
      "\u001b[0;31mValueError\u001b[0m: not enough values to unpack (expected 2, got 1)"
     ]
    }
   ],
   "source": [
    "# 调用训练函数\n",
    "model, X_star, u_star = train_pinn()\n",
    "\n",
    "# 绘制结果\n",
    "x = np.linspace(x_min, x_max, n_x)\n",
    "t = np.linspace(t_min, t_max, n_t)\n",
    "X, T = np.meshgrid(x, t)\n",
    "U_pred = model(torch.from_numpy(np.hstack((X.flatten()[:, None], T.flatten()[:, None]))).float()).detach().numpy().reshape(n_t, n_x)\n",
    "U_star = -(T - 0.5) * np.sin(np.pi * X)\n",
    "plt.figure(figsize=(12, 6))\n",
    "plt.subplot(1, 2, 1)\n",
    "plt.pcolormesh(X, T, U_pred, cmap='jet')\n",
    "plt.colorbar()\n",
    "plt.xlabel('x')\n",
    "plt.ylabel('t')\n",
    "plt.title('PINN')\n",
    "plt.subplot(1, 2, 2)\n",
    "plt.pcolormesh(X, T, U_star, cmap='jet')\n",
    "plt.colorbar()\n",
    "plt.xlabel('x')\n",
    "plt.ylabel('t')\n",
    "plt.title('Exact')\n",
    "plt.show()"
   ]
  },
  {
   "cell_type": "code",
   "execution_count": null,
   "id": "c7197209",
   "metadata": {},
   "outputs": [],
   "source": []
  }
 ],
 "metadata": {
  "kernelspec": {
   "display_name": "pytorch20",
   "language": "python",
   "name": "pytorch20"
  },
  "language_info": {
   "codemirror_mode": {
    "name": "ipython",
    "version": 3
   },
   "file_extension": ".py",
   "mimetype": "text/x-python",
   "name": "python",
   "nbconvert_exporter": "python",
   "pygments_lexer": "ipython3",
   "version": "3.9.16"
  }
 },
 "nbformat": 4,
 "nbformat_minor": 5
}
